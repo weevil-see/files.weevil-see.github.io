{
 "cells": [
  {
   "cell_type": "markdown",
   "id": "e1bbe111-22cc-4cd8-a9bd-4cf29d52ef26",
   "metadata": {},
   "source": [
    "# the index\n",
    "Lutz Behne included a file containing the citations for each part of the Catalogus, together with the pdf file name. The list contains fewer files than the directory, and I need to find the differences between the index and the pdf files."
   ]
  },
  {
   "cell_type": "code",
   "execution_count": 58,
   "id": "594b75a0-ef05-4762-a0e3-412744117051",
   "metadata": {},
   "outputs": [],
   "source": [
    "import os\n",
    "file = \"index.txt\"\n",
    "output_file = \"output.txt\"\n",
    "\n",
    "with open(file, \"r\") as f:\n",
    "    lines = f.readlines()\n",
    "\n",
    "# splitting lines after last ]\n",
    "file_names = []\n",
    "for line in lines:\n",
    "    line = line.strip()\n",
    "    if not line:\n",
    "        continue\n",
    "    if \"]\" in line:\n",
    "        _, after_bracket = line.rsplit(\"]\", 1)\n",
    "        filename = after_bracket.strip()\n",
    "        file_names.append(filename)\n",
    "        \n",
    "\n",
    "# splitting lines with space, taking the last part\n",
    "#file_names = [line.strip().split()[-1] for line in lines if line.strip()]\n",
    "\n",
    "with open (output_file, \"w\") as o:\n",
    "    for entry in file_names:\n",
    "        o.write(entry + \"\\n\")"
   ]
  },
  {
   "cell_type": "code",
   "execution_count": 59,
   "id": "6985a25a-07f6-490a-b7e8-6fa06db62aa8",
   "metadata": {},
   "outputs": [],
   "source": [
    "# find entries with space in filename\n",
    "!grep \" \" output.txt\n",
    "# spaces where manually removed from actual file names and file names in index.txt"
   ]
  },
  {
   "cell_type": "code",
   "execution_count": 60,
   "id": "51208afe-3ba9-4caf-9e1b-2aec08d0014d",
   "metadata": {},
   "outputs": [
    {
     "name": "stdout",
     "output_type": "stream",
     "text": [
      "/home/jakobj/Data/Literatur/curculionoidea_library/J/Junk_Archiv/134_Cleoninae_1-152.pdf\n",
      "/home/jakobj/Data/Literatur/curculionoidea_library/J/Junk_Archiv/137_Hyperinae_1-66.pdf\n",
      "/home/jakobj/Data/Literatur/curculionoidea_library/J/Junk_Archiv/149_Rhynchophorinae_Cossoninae_1-212.pdf\n",
      "/home/jakobj/Data/Literatur/curculionoidea_library/J/Junk_Archiv/119_Brachyderinae_Pachyrrhynchini_1-44.pdf\n",
      "/home/jakobj/Data/Literatur/curculionoidea_library/J/Junk_Archiv/147_Brachyderinae_1_1-132.pdf\n",
      "/home/jakobj/Data/Literatur/curculionoidea_library/J/Junk_Archiv/153_Brachyderinae_2_133-196.pdf\n",
      "/home/jakobj/Data/Literatur/curculionoidea_library/J/Junk_Archiv/164_Brachyderinae_3_197-327.pdf\n",
      "/home/jakobj/Data/Literatur/curculionoidea_library/J/Junk_Archiv/164_Brachyderinae_Index_1-59.pdf\n",
      "/home/jakobj/Data/Literatur/curculionoidea_library/J/Junk_Archiv/031_Aglycideridae,_Proterrhinidae_8pp.pdf\n",
      "/home/jakobj/Data/Literatur/curculionoidea_library/J/Junk_Archiv/113_Ceutorhynchinae_1-150.pdf\n",
      "/home/jakobj/Data/Literatur/curculionoidea_library/J/Junk_Archiv/123_Curculioninae_1-46.pdf\n",
      "/home/jakobj/Data/Literatur/curculionoidea_library/J/Junk_Archiv/122_Hylobiinae_1-112.pdf\n",
      "/home/jakobj/Data/Literatur/curculionoidea_library/J/Junk_Archiv/125_Pissodinae_1-29.pdf\n",
      "/home/jakobj/Data/Literatur/curculionoidea_library/J/Junk_Archiv/110_Attelabinae_3-42.pdf\n",
      "/home/jakobj/Data/Literatur/curculionoidea_library/J/Junk_Archiv/110_Apoderinae_1-42.pdf\n",
      "/home/jakobj/Data/Literatur/curculionoidea_library/J/Junk_Archiv/144_Ithycerinae_1-2.pdf\n",
      "/home/jakobj/Data/Literatur/curculionoidea_library/J/Junk_Archiv/144_Belinae_1-14.pdf\n",
      "/home/jakobj/Data/Literatur/curculionoidea_library/J/Junk_Archiv/158_Rhynchitiae_1_3-56.pdf\n",
      "/home/jakobj/Data/Literatur/curculionoidea_library/J/Junk_Archiv/131_Tanymecinae_1-131.pdf\n",
      "/home/jakobj/Data/Literatur/curculionoidea_library/J/Junk_Archiv/136_Zygopinae_1-96.pdf\n",
      "/home/jakobj/Data/Literatur/curculionoidea_library/J/Junk_Archiv/151_Cryptorhynchinae_1-317.pdf\n",
      "/home/jakobj/Data/Literatur/curculionoidea_library/J/Junk_Archiv/163_Baridinae_1-219.pdf\n",
      "/home/jakobj/Data/Literatur/curculionoidea_library/J/Junk_Archiv/135_Nanophyinae_1-26.pdf\n",
      "/home/jakobj/Data/Literatur/curculionoidea_library/J/Junk_Archiv/135_Gymnetrinae_3-68.pdf\n",
      "/home/jakobj/Data/Literatur/curculionoidea_library/J/Junk_Archiv/138_Cioninae_3-21.pdf\n",
      "/home/jakobj/Data/Literatur/curculionoidea_library/J/Junk_Archiv/138_Tychiinae_1-61.pdf\n",
      "/home/jakobj/Data/Literatur/curculionoidea_library/J/Junk_Archiv/140_Erirhininae_1-167.pdf\n",
      "/home/jakobj/Data/Literatur/curculionoidea_library/J/Junk_Archiv/145_Trigonocolinae_1-3.pdf\n",
      "/home/jakobj/Data/Literatur/curculionoidea_library/J/Junk_Archiv/145_Diabathrariinae_1-4.pdf\n",
      "/home/jakobj/Data/Literatur/curculionoidea_library/J/Junk_Archiv/145_Alophinae_3-14.pdf\n",
      "/home/jakobj/Data/Literatur/curculionoidea_library/J/Junk_Archiv/145_Euderinae_1p.pdf\n",
      "/home/jakobj/Data/Literatur/curculionoidea_library/J/Junk_Archiv/145_Ceratopinae_1-3.pdf\n",
      "/home/jakobj/Data/Literatur/curculionoidea_library/J/Junk_Archiv/145_Rhynchaeninae_1-36.pdf\n",
      "/home/jakobj/Data/Literatur/curculionoidea_library/J/Junk_Archiv/145_Xiphaspidinae_1.pdf\n",
      "/home/jakobj/Data/Literatur/curculionoidea_library/J/Junk_Archiv/145_Acicnemidinae_1-10.pdf\n",
      "/home/jakobj/Data/Literatur/curculionoidea_library/J/Junk_Archiv/145_Camarotinae_1-2.pdf\n",
      "/home/jakobj/Data/Literatur/curculionoidea_library/J/Junk_Archiv/145_Nerthopinae_1-2.pdf\n",
      "/home/jakobj/Data/Literatur/curculionoidea_library/J/Junk_Archiv/146_Cholinae_3-32.pdf\n",
      "/home/jakobj/Data/Literatur/curculionoidea_library/J/Junk_Archiv/146_Antliarrhininae_1-2.pdf\n",
      "/home/jakobj/Data/Literatur/curculionoidea_library/J/Junk_Archiv/146_Ulomascinae_Epipedinae_Pyropinae_2p.pdf\n",
      "/home/jakobj/Data/Literatur/curculionoidea_library/J/Junk_Archiv/146_Tachygoninae_1-4.pdf\n",
      "/home/jakobj/Data/Literatur/curculionoidea_library/J/Junk_Archiv/148_Otiorhynchinae_1_1-226.pdf\n",
      "/home/jakobj/Data/Literatur/curculionoidea_library/J/Junk_Archiv/160_Otiorhynchinae_2_227-412.pdf\n",
      "/home/jakobj/Data/Literatur/curculionoidea_library/J/Junk_Archiv/162_Otiorhynchinae_3_413-600.pdf\n",
      "/home/jakobj/Data/Literatur/curculionoidea_library/J/Junk_Archiv/016_Brachyceridae_1-36.pdf\n",
      "/home/jakobj/Data/Literatur/curculionoidea_library/J/Junk_Archiv/141_Magdalinae_1-31.pdf\n",
      "/home/jakobj/Data/Literatur/curculionoidea_library/J/Junk_Archiv/106_Byrsopinae_1-6_Rhytirrhininae_etc_bis62.pdf\n",
      "/home/jakobj/Data/Literatur/curculionoidea_library/J/Junk_Archiv/114_Eremninae_3-39.pdf\n",
      "/home/jakobj/Data/Literatur/curculionoidea_library/J/Junk_Archiv/114_Leptopiinae_1-83.pdf\n",
      "/home/jakobj/Data/Literatur/curculionoidea_library/J/Junk_Archiv/114_Tanyrhynchinae_1-10.pdf\n",
      "/home/jakobj/Data/Literatur/curculionoidea_library/J/Junk_Archiv/114_Cylindrorhininae_1-23.pdf\n",
      "/home/jakobj/Data/Literatur/curculionoidea_library/J/Junk_Archiv/114_Suppl_Thecest_Rhytir_Rhpars_1-4.pdf\n",
      "/home/jakobj/Data/Literatur/curculionoidea_library/J/Junk_Archiv/116_Dinomorphinae_1p.pdf\n",
      "/home/jakobj/Data/Literatur/curculionoidea_library/J/Junk_Archiv/116_Somatodinae_1-2.pdf\n",
      "/home/jakobj/Data/Literatur/curculionoidea_library/J/Junk_Archiv/116_Amycterinae_1-39.pdf\n",
      "/home/jakobj/Data/Literatur/curculionoidea_library/J/Junk_Archiv/116_Gonipterinae_1-11.pdf\n",
      "/home/jakobj/Data/Literatur/curculionoidea_library/J/Junk_Archiv/139_Anthonominae_3-82.pdf\n",
      "/home/jakobj/Data/Literatur/curculionoidea_library/J/Junk_Archiv/139_Laemosaccinae_1-8.pdf\n",
      "/home/jakobj/Data/Literatur/curculionoidea_library/J/Junk_Archiv/150_Aterpinae_1-9.pdf\n",
      "/home/jakobj/Data/Literatur/curculionoidea_library/J/Junk_Archiv/150_Amalactinae_1-3.pdf\n",
      "/home/jakobj/Data/Literatur/curculionoidea_library/J/Junk_Archiv/150_Haplonychinae_1-8.pdf\n",
      "/home/jakobj/Data/Literatur/curculionoidea_library/J/Junk_Archiv/150_Omophorinae_1-2.pdf\n",
      "/home/jakobj/Data/Literatur/curculionoidea_library/J/Junk_Archiv/150_Prionomerinae_3-11.pdf\n",
      "/home/jakobj/Data/Literatur/curculionoidea_library/J/Junk_Archiv/154_Rhadinosominae_1-2.pdf\n",
      "/home/jakobj/Data/Literatur/curculionoidea_library/J/Junk_Archiv/154_Raymondionyminae_1-6.pdf\n",
      "/home/jakobj/Data/Literatur/curculionoidea_library/J/Junk_Archiv/154_Trachodinae_1-4.pdf\n",
      "/home/jakobj/Data/Literatur/curculionoidea_library/J/Junk_Archiv/168_Addenda_1939_1-14.pdf\n",
      "/home/jakobj/Data/Literatur/curculionoidea_library/J/Junk_Archiv/110_Archolabinae_p3.pdf\n",
      "/home/jakobj/Data/Literatur/curculionoidea_library/J/Junk_Archiv/144_Petalochilinae_1-2.pdf\n",
      "/home/jakobj/Data/Literatur/curculionoidea_library/J/Junk_Archiv/144_Oxycoryninae_1-2.pdf\n",
      "/home/jakobj/Data/Literatur/curculionoidea_library/J/Junk_Archiv/144_Otidocephalinae_3-14.pdf\n",
      "/home/jakobj/Data/Literatur/curculionoidea_library/J/Junk_Archiv/158_Mesoptiliinae_p3.pdf\n",
      "/home/jakobj/Data/Literatur/curculionoidea_library/J/Junk_Archiv/167_Rhynchitinae_2-Pterocolinae_57-130.pdf\n",
      "/home/jakobj/Data/Literatur/curculionoidea_library/J/Junk_Archiv/158_167_Voss_1952_1-32_Suppl_Rhynchitinae.pdf\n",
      "/home/jakobj/Data/Literatur/curculionoidea_library/J/Junk_Archiv/110_Apoderinae_Supp_Voss_1953_1-34.pdf\n",
      "/home/jakobj/Data/Literatur/curculionoidea_library/J/Junk_Archiv/110_Attelabinae_Supp_Voss_1953_1-19.pdf\n",
      "/home/jakobj/Data/Literatur/curculionoidea_library/J/Junk_Archiv/06_Apioninae_1-81.pdf\n",
      "/home/jakobj/Data/Literatur/curculionoidea_library/J/Junk_Archiv/102_Anthribidae_1-145_Wolfrum_1929.pdf\n",
      "/home/jakobj/Data/Literatur/curculionoidea_library/J/Junk_Archiv/102_Anthribidae_1-63_Wolfrum_1953.pdf\n"
     ]
    }
   ],
   "source": [
    "# check if all files from the index are present in the folder\n",
    "import os\n",
    "output = \"output.txt\"\n",
    "with open (output, \"r\") as o:\n",
    "    for line in o:\n",
    "        line = line.strip()\n",
    "        os.system(f'ls \"/home/jakobj/Data/Literatur/curculionoidea_library/J/Junk_Archiv/{line}\"')"
   ]
  },
  {
   "cell_type": "code",
   "execution_count": 61,
   "id": "c5bbedba-0e6d-440c-98af-81d8106b34a5",
   "metadata": {},
   "outputs": [
    {
     "name": "stdout",
     "output_type": "stream",
     "text": [
      "No match found for Junk-Kataloge_Autor_Jahr_Register_Datenbank.pdf\n",
      "No match found for Junk_Curculionoidea_Datierung_Kataloge.pdf\n"
     ]
    }
   ],
   "source": [
    "# check if all files from the folder are in the index\n",
    "import glob\n",
    "import os\n",
    "from pathlib import Path\n",
    "\n",
    "pdf_files = glob.glob(\"/home/jakobj/Data/Literatur/curculionoidea_library/J/Junk_Archiv/*.pdf\")\n",
    "file_names = [os.path.basename(f) for f in pdf_files]\n",
    "\n",
    "#for file in file_names:\n",
    "#    print(file)\n",
    "\n",
    "# Read the content of output.txt\n",
    "with open(\"output.txt\", \"r\") as f:\n",
    "    lines = f.readlines()\n",
    "\n",
    "# Search each filename in the lines of output.txt\n",
    "for name in file_names:\n",
    "    matches = [line for line in lines if name in line]\n",
    "    if matches:\n",
    "        continue\n",
    "    else:\n",
    "        print(f\"No match found for {name}\")"
   ]
  },
  {
   "cell_type": "markdown",
   "id": "b394e71d-d8cd-41b7-8a3c-b74961651115",
   "metadata": {},
   "source": [
    "No match found for 102_Anthribidae_1-145_Wolfrum_1929.pdf\\\n",
    "No match found for 031_Aglycideridae,_Proterrhinidae_8pp.pdf\\\n",
    "No match found for Junk-Kataloge_Autor_Jahr_Register_Datenbank.pdf\\\n",
    "No match found for Junk_Curculionoidea_Datierung_Kataloge.pdf\\\n",
    "No match found for 168_Addenda_1939_1-14.pdf\\\n",
    "No match found for 102_Anthribidae_1-63_Wolfrum_1953.pdf\\\n",
    "No match found for 114_Cylindrorhininae_1-23.pdf\\\n",
    "\n"
   ]
  },
  {
   "cell_type": "code",
   "execution_count": null,
   "id": "44577c40-e619-4c1d-971f-91cbf827a8fc",
   "metadata": {},
   "outputs": [],
   "source": []
  }
 ],
 "metadata": {
  "kernelspec": {
   "display_name": "Python 3 (ipykernel)",
   "language": "python",
   "name": "python3"
  },
  "language_info": {
   "codemirror_mode": {
    "name": "ipython",
    "version": 3
   },
   "file_extension": ".py",
   "mimetype": "text/x-python",
   "name": "python",
   "nbconvert_exporter": "python",
   "pygments_lexer": "ipython3",
   "version": "3.12.7"
  }
 },
 "nbformat": 4,
 "nbformat_minor": 5
}
